{
 "cells": [
  {
   "cell_type": "code",
   "execution_count": null,
   "id": "52d0993b",
   "metadata": {},
   "outputs": [],
   "source": [
    "import pandas as pd\n",
    "from scipy import sparse"
   ]
  },
  {
   "cell_type": "code",
   "execution_count": null,
   "id": "3ca63dc5",
   "metadata": {},
   "outputs": [],
   "source": [
    "ratings =  pd.read_csv(\"ratings.csv\")\n",
    "movies = pd.read_csv(\"movies.csv\")\n",
    "ratings=pd.merge(ratings,movies)\n",
    "ratings=ratings.drop(['genres','timestamp'],axis=1)\n",
    "#ratings"
   ]
  },
  {
   "cell_type": "code",
   "execution_count": null,
   "id": "5b1f86da",
   "metadata": {},
   "outputs": [],
   "source": [
    "user_ratings=ratings.pivot_table(index=['userId'],columns=['title'],values=['rating'])\n",
    "\n",
    "user_ratings = user_ratings.dropna(thresh=10, axis=1).fillna(0,axis=1)\n",
    "#user_ratings"
   ]
  },
  {
   "cell_type": "code",
   "execution_count": null,
   "id": "eb150183",
   "metadata": {},
   "outputs": [],
   "source": [
    "corrMatrix = user_ratings.corr(method='pearson')\n",
    "#corrMatrix"
   ]
  },
  {
   "cell_type": "code",
   "execution_count": null,
   "id": "1126aa6d",
   "metadata": {},
   "outputs": [],
   "source": [
    "def get_similar(movie_name,rating):\n",
    "    similar_ratings = corrMatrix[movie_name]*(rating-2.5)\n",
    "    similar_ratings = similar_ratings.sort_values(ascending=False)\n",
    "    print(type(similar_ratings))\n",
    "    return similar_ratings"
   ]
  },
  {
   "cell_type": "code",
   "execution_count": null,
   "id": "0fb9c5ef",
   "metadata": {},
   "outputs": [],
   "source": [
    "user_ratings=[]\n",
    "total = input(\"Enter the no of movies:\\n\")\n",
    "for r in range (int(total)):\n",
    "    movie=input(\"Enter movie name:\")\n",
    "    rating=input(\"Enter its rating:\")\n",
    "    user_ratings.append((movie,int(rating)))\n",
    "#user_ratings"
   ]
  },
  {
   "cell_type": "code",
   "execution_count": null,
   "id": "d0262991",
   "metadata": {},
   "outputs": [],
   "source": [
    "\n",
    "similar_movies = pd.DataFrame()\n",
    "for movie,rating in user_ratings:\n",
    "    similar_movies = similar_movies.append(get_similar(movie,rating),ignore_index = True)\n",
    "#similar_movies.head(15)"
   ]
  },
  {
   "cell_type": "code",
   "execution_count": null,
   "id": "0db9ad88",
   "metadata": {},
   "outputs": [],
   "source": [
    "similar_movies.sum().sort_values(ascending=False).head(20)"
   ]
  }
 ],
 "metadata": {
  "kernelspec": {
   "display_name": "Python 3",
   "language": "python",
   "name": "python3"
  },
  "language_info": {
   "codemirror_mode": {
    "name": "ipython",
    "version": 3
   },
   "file_extension": ".py",
   "mimetype": "text/x-python",
   "name": "python",
   "nbconvert_exporter": "python",
   "pygments_lexer": "ipython3",
   "version": "3.8.8"
  }
 },
 "nbformat": 4,
 "nbformat_minor": 5
}
